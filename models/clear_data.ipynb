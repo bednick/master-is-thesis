{
 "cells": [
  {
   "cell_type": "code",
   "execution_count": null,
   "metadata": {},
   "outputs": [],
   "source": [
    "# !pip install tqdm"
   ]
  },
  {
   "cell_type": "code",
   "execution_count": 1,
   "metadata": {},
   "outputs": [],
   "source": [
    "import pandas as pd"
   ]
  },
  {
   "cell_type": "code",
   "execution_count": 2,
   "metadata": {},
   "outputs": [],
   "source": [
    "aggregated = pd.read_csv('../data/marks_csv/aggregated.csv', index_col=None)"
   ]
  },
  {
   "cell_type": "code",
   "execution_count": 3,
   "metadata": {},
   "outputs": [
    {
     "data": {
      "text/html": [
       "<div>\n",
       "<style scoped>\n",
       "    .dataframe tbody tr th:only-of-type {\n",
       "        vertical-align: middle;\n",
       "    }\n",
       "\n",
       "    .dataframe tbody tr th {\n",
       "        vertical-align: top;\n",
       "    }\n",
       "\n",
       "    .dataframe thead th {\n",
       "        text-align: right;\n",
       "    }\n",
       "</style>\n",
       "<table border=\"1\" class=\"dataframe\">\n",
       "  <thead>\n",
       "    <tr style=\"text-align: right;\">\n",
       "      <th></th>\n",
       "      <th>input</th>\n",
       "      <th>output</th>\n",
       "      <th>confidence</th>\n",
       "    </tr>\n",
       "  </thead>\n",
       "  <tbody>\n",
       "    <tr>\n",
       "      <th>0</th>\n",
       "      <td>Условия термодинамической согласованности имею...</td>\n",
       "      <td>NEUTRAL</td>\n",
       "      <td>0.92</td>\n",
       "    </tr>\n",
       "    <tr>\n",
       "      <th>1</th>\n",
       "      <td>мишени, подтвержденная там для 2D  модели, до...</td>\n",
       "      <td>NEUTRAL</td>\n",
       "      <td>0.90</td>\n",
       "    </tr>\n",
       "    <tr>\n",
       "      <th>2</th>\n",
       "      <td>При разработке алгоритмов решения задач ГД и М...</td>\n",
       "      <td>NEUTRAL</td>\n",
       "      <td>0.97</td>\n",
       "    </tr>\n",
       "    <tr>\n",
       "      <th>3</th>\n",
       "      <td>На основе теории стохастических динамических п...</td>\n",
       "      <td>GOOD</td>\n",
       "      <td>1.00</td>\n",
       "    </tr>\n",
       "    <tr>\n",
       "      <th>4</th>\n",
       "      <td>Основным достоинством лазерного поджига являет...</td>\n",
       "      <td>NEUTRAL</td>\n",
       "      <td>0.61</td>\n",
       "    </tr>\n",
       "  </tbody>\n",
       "</table>\n",
       "</div>"
      ],
      "text/plain": [
       "                                               input   output  confidence\n",
       "0  Условия термодинамической согласованности имею...  NEUTRAL        0.92\n",
       "1  мишени, подтвержденная там для 2D  модели, до...  NEUTRAL        0.90\n",
       "2  При разработке алгоритмов решения задач ГД и М...  NEUTRAL        0.97\n",
       "3  На основе теории стохастических динамических п...     GOOD        1.00\n",
       "4  Основным достоинством лазерного поджига являет...  NEUTRAL        0.61"
      ]
     },
     "execution_count": 3,
     "metadata": {},
     "output_type": "execute_result"
    }
   ],
   "source": [
    "aggregated.head()"
   ]
  },
  {
   "cell_type": "code",
   "execution_count": 4,
   "metadata": {},
   "outputs": [],
   "source": [
    "aggregated['input'] = [' '.join(line.split()) for line in aggregated['input']]"
   ]
  },
  {
   "cell_type": "code",
   "execution_count": 5,
   "metadata": {},
   "outputs": [],
   "source": [
    "def get_index_start(line: str):\n",
    "    lower_line = line.lower()\n",
    "    if 'введение' in lower_line:\n",
    "        res = lower_line.index('введение') + len('введение')\n",
    "        return res\n",
    "    else:\n",
    "        res = len(line) - ''.join(list(reversed(line))).index('...')\n",
    "        return res\n",
    "lines = aggregated['input']\n",
    "lines = [l[get_index_start(l):] if '.....' in l or '. . . .' in l else l for l in lines]\n",
    "lines = [l.strip() for l in lines]\n",
    "aggregated['input'] = lines\n",
    "aggregated.reset_index(drop=True, inplace=True)"
   ]
  },
  {
   "cell_type": "code",
   "execution_count": 6,
   "metadata": {},
   "outputs": [
    {
     "data": {
      "text/plain": [
       "(792, 335)"
      ]
     },
     "execution_count": 6,
     "metadata": {},
     "output_type": "execute_result"
    }
   ],
   "source": [
    "copyes = []\n",
    "\n",
    "lines = aggregated['input']\n",
    "output = aggregated['output']\n",
    "\n",
    "for i1, line1 in enumerate(lines):\n",
    "    # print(i1 / aggregated.shape[0])\n",
    "    for i2, line2 in enumerate(lines[i1+1:]):\n",
    "        if i2 <= i1:\n",
    "            continue\n",
    "#         line1 = row1['input']\n",
    "#         line2 = row2['input']\n",
    "\n",
    "        if line1[:150] ==  line2[:150]:\n",
    "            copyes.append((i1, i1+i2+1))\n",
    "len(copyes), len([1 for i1, i2 in copyes if output[i1] != output[i2]])"
   ]
  },
  {
   "cell_type": "code",
   "execution_count": 7,
   "metadata": {},
   "outputs": [],
   "source": [
    "del_start = set(c[1] for c in copyes)\n",
    "aggregated['del_start'] = [i in del_start for i in range(aggregated.shape[0])]\n",
    "aggregated = aggregated[~aggregated.del_start]\n",
    "aggregated.reset_index(drop=True, inplace=True)"
   ]
  },
  {
   "cell_type": "code",
   "execution_count": null,
   "metadata": {},
   "outputs": [],
   "source": []
  },
  {
   "cell_type": "code",
   "execution_count": 8,
   "metadata": {
    "scrolled": true
   },
   "outputs": [
    {
     "data": {
      "text/plain": [
       "(3, 2)"
      ]
     },
     "execution_count": 8,
     "metadata": {},
     "output_type": "execute_result"
    }
   ],
   "source": [
    "copyes = []\n",
    "\n",
    "lines = aggregated['input']\n",
    "output = aggregated['output']\n",
    "\n",
    "for i1, line1 in enumerate(lines):\n",
    "    # print(i1 / aggregated.shape[0])\n",
    "    for i2, line2 in enumerate(lines[i1+1:]):\n",
    "        if i2 <= i1:\n",
    "            continue\n",
    "#         line1 = row1['input']\n",
    "#         line2 = row2['input']\n",
    "\n",
    "        if line1[150:] ==  line2[150:]:\n",
    "            copyes.append((i1, i1+i2+1))\n",
    "len(copyes), len([1 for i1, i2 in copyes if output[i1] != output[i2]])"
   ]
  },
  {
   "cell_type": "code",
   "execution_count": 15,
   "metadata": {},
   "outputs": [],
   "source": [
    "del_finish = set(c[1] for c in copyes)\n",
    "aggregated['del_finish'] = [i in del_finish for i in range(aggregated.shape[0])]\n",
    "aggregated = aggregated[~aggregated.del_finish]\n",
    "aggregated.reset_index(drop=True, inplace=True)"
   ]
  },
  {
   "cell_type": "code",
   "execution_count": 18,
   "metadata": {},
   "outputs": [],
   "source": [
    "aggregated[['input', 'output', 'confidence']].to_csv('../data/marks_csv/aggregated_clear.csv', index=None)"
   ]
  },
  {
   "cell_type": "code",
   "execution_count": null,
   "metadata": {},
   "outputs": [],
   "source": []
  }
 ],
 "metadata": {
  "kernelspec": {
   "display_name": "Python 3",
   "language": "python",
   "name": "python3"
  },
  "language_info": {
   "codemirror_mode": {
    "name": "ipython",
    "version": 3
   },
   "file_extension": ".py",
   "mimetype": "text/x-python",
   "name": "python",
   "nbconvert_exporter": "python",
   "pygments_lexer": "ipython3",
   "version": "3.7.3"
  }
 },
 "nbformat": 4,
 "nbformat_minor": 2
}
