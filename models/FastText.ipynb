{
 "cells": [
  {
   "cell_type": "code",
   "execution_count": null,
   "metadata": {},
   "outputs": [],
   "source": [
    "import pandas as pd"
   ]
  },
  {
   "cell_type": "code",
   "execution_count": null,
   "metadata": {},
   "outputs": [],
   "source": [
    "from notebook.auth import passwd; passwd()"
   ]
  },
  {
   "cell_type": "code",
   "execution_count": null,
   "metadata": {},
   "outputs": [],
   "source": [
    "aggregated_clear = pd.read_csv('../data/marks_csv/aggregated_clear.csv', sep=',')\n",
    "aggregated_clear.head()"
   ]
  },
  {
   "cell_type": "code",
   "execution_count": null,
   "metadata": {},
   "outputs": [],
   "source": [
    "aggregated_normalize = pd.read_csv('../data/marks_csv/aggregated_normalize.csv', sep=',')\n",
    "aggregated_normalize.head()"
   ]
  },
  {
   "cell_type": "code",
   "execution_count": null,
   "metadata": {},
   "outputs": [],
   "source": [
    "# aggregated_normalize"
   ]
  },
  {
   "cell_type": "code",
   "execution_count": null,
   "metadata": {},
   "outputs": [],
   "source": [
    "with open('aggregated_clear_fasttext.txt', 'w', encoding='utf-8') as fp:\n",
    "    for _, row in aggregated_clear.iterrows():\n",
    "        new_row = '__label__' + row['output']+ ' ' + row['input'] + '\\n'\n",
    "        fp.write(new_row)"
   ]
  },
  {
   "cell_type": "code",
   "execution_count": null,
   "metadata": {},
   "outputs": [],
   "source": [
    "with open('aggregated_normalize_fasttext.txt', 'w', encoding='utf-8') as fp:\n",
    "    for _, row in aggregated_normalize.iterrows():\n",
    "        new_row = '__label__' + row['output']+ ' ' + row['input_normal_form'] + '\\n'\n",
    "        fp.write(new_row)"
   ]
  },
  {
   "cell_type": "markdown",
   "metadata": {},
   "source": [
    "# Train model"
   ]
  },
  {
   "cell_type": "code",
   "execution_count": null,
   "metadata": {},
   "outputs": [],
   "source": [
    "import fasttext"
   ]
  },
  {
   "cell_type": "code",
   "execution_count": null,
   "metadata": {},
   "outputs": [],
   "source": [
    "for wordNgrams in (1, 2):\n",
    "    for lr in (0.1, 0.5, 1.0):\n",
    "        for epoch in (5, 10, 20, 30, 40):\n",
    "            model = fasttext.train_supervised(input=\"./data/aggregated_clear_fasttext_train.txt\",\n",
    "                                              epoch=epoch, lr=lr, wordNgrams=wordNgrams)\n",
    "            print(f\"wordNgrams: {wordNgrams}, lr: {lr}, epoch: {epoch}\",\n",
    "                  model.test(\"./data/aggregated_clear_fasttext_test.txt\"))\n",
    "            # print(model.test(\"./data/aggregated_clear_fasttext_train.txt\"))\n",
    "            print()\n",
    "        print(\"lr\")\n",
    "    print(\"wordNgrams\")"
   ]
  },
  {
   "cell_type": "markdown",
   "metadata": {},
   "source": [
    "wordNgrams: 1, lr: 1.0, epoch: 5 (1150, 0.5756521739130435, 0.5756521739130435)"
   ]
  },
  {
   "cell_type": "code",
   "execution_count": null,
   "metadata": {},
   "outputs": [],
   "source": [
    "for wordNgrams in (1, 2):\n",
    "    for lr in (0.1, 0.5, 1.0, 2.0):\n",
    "        for epoch in (5, 10, 20, 30, 40):\n",
    "            model_normalize = fasttext.train_supervised(input=\"./data/aggregated_normalize_fasttext_train.txt\",\n",
    "                                                        epoch=epoch, lr=lr, wordNgrams=wordNgrams)\n",
    "            print(f\"wordNgrams: {wordNgrams}, lr: {lr}, epoch: {epoch}\",\n",
    "                  model_normalize.test(\"./data/aggregated_normalize_fasttext_test.txt\"))\n",
    "        print(\"lr\")\n",
    "    print(\"wordNgrams\")"
   ]
  },
  {
   "cell_type": "markdown",
   "metadata": {},
   "source": [
    "wordNgrams: 1, lr: 0.5, epoch: 5 (1150, 0.5791304347826087, 0.5791304347826087)"
   ]
  },
  {
   "cell_type": "markdown",
   "metadata": {},
   "source": [
    "# Download models"
   ]
  },
  {
   "cell_type": "code",
   "execution_count": null,
   "metadata": {},
   "outputs": [],
   "source": [
    "import fasttext.util\n",
    "import pandas as pd"
   ]
  },
  {
   "cell_type": "code",
   "execution_count": null,
   "metadata": {
    "scrolled": true
   },
   "outputs": [],
   "source": [
    "fasttext.util.download_model('ru', if_exists='ignore')"
   ]
  },
  {
   "cell_type": "code",
   "execution_count": null,
   "metadata": {},
   "outputs": [],
   "source": [
    "ft = fasttext.load_model('cc.ru.300.bin')"
   ]
  },
  {
   "cell_type": "code",
   "execution_count": null,
   "metadata": {},
   "outputs": [],
   "source": [
    "aggregated_clear = pd.read_csv('./data/aggregated_clear.csv')\n",
    "aggregated_clear.head()\n",
    "res = []\n",
    "for _, row in aggregated_clear.iterrows():\n",
    "    res.append(ft.get_sentence_vector(row['input']))\n",
    "\n",
    "df_res = pd.DataFrame(res)\n",
    "df_res['output'] = aggregated_clear['output']"
   ]
  },
  {
   "cell_type": "code",
   "execution_count": null,
   "metadata": {},
   "outputs": [],
   "source": [
    "df_res.to_csv('./data/aggregated_clear_vectors.csv', index=None)"
   ]
  },
  {
   "cell_type": "code",
   "execution_count": null,
   "metadata": {},
   "outputs": [],
   "source": []
  },
  {
   "cell_type": "code",
   "execution_count": null,
   "metadata": {},
   "outputs": [],
   "source": []
  },
  {
   "cell_type": "code",
   "execution_count": null,
   "metadata": {},
   "outputs": [],
   "source": [
    "import fasttext.util\n",
    "import pandas as pd\n",
    "\n",
    "fasttext.util.download_model('ru', if_exists='ignore')\n",
    "\n",
    "ft = fasttext.load_model('cc.ru.300.bin')\n",
    "\n",
    "aggregated_clear = pd.read_csv('./data/aggregated_normalize.csv')\n",
    "aggregated_clear.head()\n",
    "res = []\n",
    "for _, row in aggregated_clear.iterrows():\n",
    "    res.append(ft.get_sentence_vector(row['input_normal_form']))\n",
    "\n",
    "df_res = pd.DataFrame(res)\n",
    "df_res['output'] = aggregated_clear['output']\n",
    "\n",
    "df_res.to_csv('./data/aggregated_normalize_vectors.csv', index=None)"
   ]
  }
 ],
 "metadata": {
  "kernelspec": {
   "display_name": "Python 3",
   "language": "python",
   "name": "python3"
  },
  "language_info": {
   "codemirror_mode": {
    "name": "ipython",
    "version": 3
   },
   "file_extension": ".py",
   "mimetype": "text/x-python",
   "name": "python",
   "nbconvert_exporter": "python",
   "pygments_lexer": "ipython3",
   "version": "3.6.7"
  }
 },
 "nbformat": 4,
 "nbformat_minor": 4
}
