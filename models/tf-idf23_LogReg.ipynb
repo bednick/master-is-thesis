{
 "cells": [
  {
   "cell_type": "code",
   "execution_count": 1,
   "metadata": {},
   "outputs": [],
   "source": [
    "import re\n",
    "import math\n",
    "import string\n",
    "import pymorphy2\n",
    "import pandas as pd\n",
    "\n",
    "from typing import List, Tuple\n",
    "from collections import Counter\n",
    "from sklearn.model_selection import train_test_split\n",
    "from sklearn.metrics import confusion_matrix, f1_score\n",
    "\n",
    "from sklearn.feature_extraction.text import TfidfVectorizer\n",
    "from sklearn.linear_model import LogisticRegression"
   ]
  },
  {
   "cell_type": "code",
   "execution_count": 2,
   "metadata": {},
   "outputs": [],
   "source": [
    "morph = pymorphy2.MorphAnalyzer()\n",
    "\n",
    "\n",
    "def normalize(line: str) -> str:\n",
    "    return ' '.join([morph.parse(word)[0].normal_form for word in (v.lower() for v in re.findall(r\"('?[а-яА-ЯёЁ][а-яА-ЯёЁ]*(?:-[а-яА-ЯёЁ]+)*'?)\", line))])\n"
   ]
  },
  {
   "cell_type": "code",
   "execution_count": 3,
   "metadata": {},
   "outputs": [
    {
     "name": "stdout",
     "output_type": "stream",
     "text": [
      "(7150, 4)\n",
      "(5720, 4) (1430, 4)\n"
     ]
    }
   ],
   "source": [
    "aggregated = pd.read_csv('../data/marks_csv/aggregated_clear.csv', index_col=None)\n",
    "aggregated.drop_duplicates(inplace=True)\n",
    "aggregated['input_normal_form'] = aggregated.input.apply(normalize)\n",
    "print(aggregated.shape)\n",
    "\n",
    "aggregated_train, aggregated_test, _, _ = train_test_split(aggregated, aggregated['output'], test_size=0.2, random_state=42)\n",
    "del aggregated\n",
    "print(aggregated_train.shape, aggregated_test.shape)"
   ]
  },
  {
   "cell_type": "code",
   "execution_count": 4,
   "metadata": {},
   "outputs": [
    {
     "data": {
      "text/html": [
       "<div>\n",
       "<style scoped>\n",
       "    .dataframe tbody tr th:only-of-type {\n",
       "        vertical-align: middle;\n",
       "    }\n",
       "\n",
       "    .dataframe tbody tr th {\n",
       "        vertical-align: top;\n",
       "    }\n",
       "\n",
       "    .dataframe thead th {\n",
       "        text-align: right;\n",
       "    }\n",
       "</style>\n",
       "<table border=\"1\" class=\"dataframe\">\n",
       "  <thead>\n",
       "    <tr style=\"text-align: right;\">\n",
       "      <th></th>\n",
       "      <th>input</th>\n",
       "      <th>output</th>\n",
       "      <th>confidence</th>\n",
       "      <th>input_normal_form</th>\n",
       "    </tr>\n",
       "  </thead>\n",
       "  <tbody>\n",
       "    <tr>\n",
       "      <th>5178</th>\n",
       "      <td>Многорезультатная суперкомпиляция – это метод ...</td>\n",
       "      <td>NEUTRAL</td>\n",
       "      <td>0.51</td>\n",
       "      <td>многорезультатный суперкомпиляция это метод ко...</td>\n",
       "    </tr>\n",
       "  </tbody>\n",
       "</table>\n",
       "</div>"
      ],
      "text/plain": [
       "                                                  input   output  confidence  \\\n",
       "5178  Многорезультатная суперкомпиляция – это метод ...  NEUTRAL        0.51   \n",
       "\n",
       "                                      input_normal_form  \n",
       "5178  многорезультатный суперкомпиляция это метод ко...  "
      ]
     },
     "execution_count": 4,
     "metadata": {},
     "output_type": "execute_result"
    }
   ],
   "source": [
    "aggregated_train.head(1)"
   ]
  },
  {
   "cell_type": "code",
   "execution_count": 5,
   "metadata": {},
   "outputs": [],
   "source": [
    "vectorizer = TfidfVectorizer(ngram_range=(2, 3))\n",
    "X = vectorizer.fit_transform(aggregated_train['input_normal_form'])\n",
    "y = aggregated_train['output']"
   ]
  },
  {
   "cell_type": "code",
   "execution_count": 6,
   "metadata": {},
   "outputs": [],
   "source": [
    "clf = LogisticRegression(random_state=0, solver='newton-cg', multi_class='multinomial', class_weight='balanced').fit(X, y)"
   ]
  },
  {
   "cell_type": "code",
   "execution_count": 7,
   "metadata": {},
   "outputs": [],
   "source": [
    "results = pd.DataFrame()\n",
    "results['predict'] = clf.predict(vectorizer.transform(aggregated_test['input_normal_form']))\n",
    "results['output'] = aggregated_test['output'].tolist()"
   ]
  },
  {
   "cell_type": "code",
   "execution_count": 8,
   "metadata": {},
   "outputs": [
    {
     "data": {
      "text/plain": [
       "array([[164, 196,  64],\n",
       "       [137, 468,  83],\n",
       "       [ 38, 139, 141]], dtype=int64)"
      ]
     },
     "execution_count": 8,
     "metadata": {},
     "output_type": "execute_result"
    }
   ],
   "source": [
    "confusion_matrix(results['output'].tolist(), results['predict'].tolist(), labels=[\"GOOD\", \"NEUTRAL\", \"BAD\"])"
   ]
  },
  {
   "cell_type": "code",
   "execution_count": 9,
   "metadata": {},
   "outputs": [
    {
     "data": {
      "text/plain": [
       "(0.5329745492564901, 0.5405594405594406, 0.5076650596039981)"
      ]
     },
     "execution_count": 9,
     "metadata": {},
     "output_type": "execute_result"
    }
   ],
   "source": [
    "(\n",
    "    f1_score(results['output'].tolist(), results['predict'].tolist(), labels=[\"GOOD\", \"NEUTRAL\", \"BAD\"], average='weighted'),\n",
    "    f1_score(results['output'].tolist(), results['predict'].tolist(), labels=[\"GOOD\", \"NEUTRAL\", \"BAD\"], average='micro'),\n",
    "    f1_score(results['output'].tolist(), results['predict'].tolist(), labels=[\"GOOD\", \"NEUTRAL\", \"BAD\"], average='macro'),\n",
    ")"
   ]
  },
  {
   "cell_type": "code",
   "execution_count": null,
   "metadata": {},
   "outputs": [],
   "source": []
  },
  {
   "cell_type": "code",
   "execution_count": null,
   "metadata": {},
   "outputs": [],
   "source": []
  }
 ],
 "metadata": {
  "kernelspec": {
   "display_name": "Python 3",
   "language": "python",
   "name": "python3"
  },
  "language_info": {
   "codemirror_mode": {
    "name": "ipython",
    "version": 3
   },
   "file_extension": ".py",
   "mimetype": "text/x-python",
   "name": "python",
   "nbconvert_exporter": "python",
   "pygments_lexer": "ipython3",
   "version": "3.7.3"
  }
 },
 "nbformat": 4,
 "nbformat_minor": 2
}
