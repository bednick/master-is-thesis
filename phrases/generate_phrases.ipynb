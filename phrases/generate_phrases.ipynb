{
 "cells": [
  {
   "cell_type": "code",
   "execution_count": null,
   "metadata": {},
   "outputs": [],
   "source": [
    "import re\n",
    "import string\n",
    "import pymorphy2\n",
    "import pandas as pd"
   ]
  },
  {
   "cell_type": "code",
   "execution_count": null,
   "metadata": {},
   "outputs": [],
   "source": [
    "aggregated = pd.read_csv('../data/marks_csv/aggregated.csv', index_col=None)"
   ]
  },
  {
   "cell_type": "code",
   "execution_count": null,
   "metadata": {},
   "outputs": [],
   "source": [
    "regex_ru = re.compile('[^а-яА-Я]')\n",
    "\n",
    "def get_ru_words(line: str):\n",
    "    words = [word for word in regex_ru.sub(' ', line).lower().split() if word]\n",
    "    return words\n",
    "aggregated['ru_words'] = aggregated.input.apply(get_ru_words)\n",
    "aggregated.head(2)"
   ]
  },
  {
   "cell_type": "code",
   "execution_count": null,
   "metadata": {},
   "outputs": [],
   "source": [
    "from gensim.models.phrases import Phrases\n",
    "\n",
    "DELIMITER = '_'\n",
    "B_DELIMITER = DELIMITER.encode()\n",
    "\n",
    "def train_phrases(sentences, n, min_count=30, threshold=50):\n",
    "    if n < 2:\n",
    "        raise ValueError(\"n < 2\")\n",
    "    \n",
    "    grams = []\n",
    "    transformed_corpus = []\n",
    "    \n",
    "    _words = sentences\n",
    "    for ind in range(n - 1):\n",
    "        gram = Phrases(_words, min_count=min_count, delimiter=B_DELIMITER, threshold=threshold)\n",
    "        grams.append(gram)\n",
    "        _words = gram[_words]\n",
    "        transformed_corpus.append(_words)\n",
    "            \n",
    "    return grams, transformed_corpus"
   ]
  },
  {
   "cell_type": "code",
   "execution_count": null,
   "metadata": {},
   "outputs": [],
   "source": [
    "grams, transformed_corpus = train_phrases(aggregated.ru_words, 5, threshold=25)"
   ]
  },
  {
   "cell_type": "code",
   "execution_count": null,
   "metadata": {},
   "outputs": [],
   "source": [
    "phrases_by_groups = {name: list() for name in aggregated.output.unique()}\n",
    "for index, (words, output) in enumerate(zip(transformed_corpus[-1], aggregated.output)):\n",
    "    phrases = [word for word in words if DELIMITER in word]\n",
    "    if phrases:\n",
    "        phrases_by_groups[output].extend(phrases)"
   ]
  },
  {
   "cell_type": "code",
   "execution_count": null,
   "metadata": {},
   "outputs": [],
   "source": [
    "from collections import Counter\n",
    "counts = {name: Counter(values) for name, values in phrases_by_groups.items()}"
   ]
  },
  {
   "cell_type": "code",
   "execution_count": null,
   "metadata": {},
   "outputs": [],
   "source": [
    "counts.keys()"
   ]
  },
  {
   "cell_type": "code",
   "execution_count": null,
   "metadata": {},
   "outputs": [],
   "source": [
    "counts['GOOD'].most_common()"
   ]
  },
  {
   "cell_type": "code",
   "execution_count": null,
   "metadata": {},
   "outputs": [],
   "source": [
    "counts['NEUTRAL'].most_common()"
   ]
  },
  {
   "cell_type": "code",
   "execution_count": null,
   "metadata": {},
   "outputs": [],
   "source": [
    "counts['BAD'].most_common()"
   ]
  },
  {
   "cell_type": "code",
   "execution_count": null,
   "metadata": {},
   "outputs": [],
   "source": []
  }
 ],
 "metadata": {
  "kernelspec": {
   "display_name": "Python 3",
   "language": "python",
   "name": "python3"
  },
  "language_info": {
   "codemirror_mode": {
    "name": "ipython",
    "version": 3
   },
   "file_extension": ".py",
   "mimetype": "text/x-python",
   "name": "python",
   "nbconvert_exporter": "python",
   "pygments_lexer": "ipython3",
   "version": "3.6.7"
  }
 },
 "nbformat": 4,
 "nbformat_minor": 2
}
