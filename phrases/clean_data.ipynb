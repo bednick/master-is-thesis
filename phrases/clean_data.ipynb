{
 "cells": [
  {
   "cell_type": "markdown",
   "metadata": {},
   "source": [
    "# Clean"
   ]
  },
  {
   "cell_type": "code",
   "execution_count": null,
   "metadata": {},
   "outputs": [],
   "source": [
    "import pandas as pd\n",
    "\n",
    "def cast_confidence(conf_str: str):\n",
    "    return round(float(conf_str[:-1]) / 100, 2)"
   ]
  },
  {
   "cell_type": "code",
   "execution_count": null,
   "metadata": {},
   "outputs": [],
   "source": [
    "aggregated = pd.read_csv('../data/marks/aggregated.tsv', delimiter='\\t', index_col=None)\n",
    "aggregated.reset_index(inplace=True)\n",
    "aggregated.columns = ['input', 'output', 'confidence', '']\n",
    "aggregated = aggregated[['input', 'output', 'confidence']]\n",
    "aggregated['confidence'] = aggregated['confidence'].apply(cast_confidence)\n",
    "aggregated['input'] = aggregated['input'].str.strip()\n",
    "aggregated.to_csv('../data/marks_csv/aggregated.csv', index=False)\n",
    "print(aggregated.output.unique())\n",
    "aggregated.head()"
   ]
  },
  {
   "cell_type": "code",
   "execution_count": null,
   "metadata": {},
   "outputs": [],
   "source": [
    "aggregated_2 = pd.read_csv('../data/marks/aggregated_2.tsv', delimiter='\\t', index_col=None)\n",
    "aggregated_2.columns = ['input', 'output', 'confidence', 'golden', '']\n",
    "aggregated_2 = aggregated_2[['input', 'output', 'confidence']]\n",
    "aggregated_2['confidence'] = aggregated_2['confidence'].apply(cast_confidence)\n",
    "aggregated_2['input'] = aggregated_2['input'].str.strip()\n",
    "aggregated_2.to_csv('../data/marks_csv/aggregated_2.csv', index=False)\n",
    "print(aggregated_2.output.unique())\n",
    "aggregated_2.head()"
   ]
  },
  {
   "cell_type": "code",
   "execution_count": null,
   "metadata": {},
   "outputs": [],
   "source": [
    "Razmetka_1 = pd.read_csv('../data/marks/Razmetka_1.tsv', delimiter='\\t', index_col=None)\n",
    "Razmetka_1.columns = ['input', 'output', 'golden', 'hint', 'assignment']\n",
    "Razmetka_1.dropna('index', 'all', inplace=True)\n",
    "Razmetka_1 = Razmetka_1[['input', 'output']]\n",
    "Razmetka_1['input'] = Razmetka_1['input'].str.strip()\n",
    "Razmetka_1.to_csv('../data/marks_csv/markup_1.csv', index=False)"
   ]
  },
  {
   "cell_type": "code",
   "execution_count": null,
   "metadata": {},
   "outputs": [],
   "source": [
    "Razmetka_2 = pd.read_csv('../data/marks/Razmetka_2.tsv', delimiter='\\t', index_col=None)\n",
    "Razmetka_2.columns = ['input', 'output', 'golden', 'hint', 'assignment']\n",
    "Razmetka_2.dropna('index', 'all', inplace=True)\n",
    "Razmetka_2 = Razmetka_2[['input', 'output']]\n",
    "Razmetka_2['input'] = Razmetka_2['input'].str.strip()\n",
    "Razmetka_2.to_csv('../data/marks_csv/markup_2.csv', index=False)"
   ]
  },
  {
   "cell_type": "code",
   "execution_count": null,
   "metadata": {},
   "outputs": [],
   "source": [
    "Razmetka_3 = pd.read_csv('D:/Data/marks/Razmetka_3.tsv', delimiter='\\t', index_col=None)\n",
    "Razmetka_3.columns = ['input', 'output', 'golden', 'hint', 'assignment']\n",
    "Razmetka_3.dropna('index', 'all', inplace=True)\n",
    "Razmetka_3 = Razmetka_3[['input', 'output']]\n",
    "Razmetka_3['input'] = Razmetka_3['input'].str.strip()\n",
    "Razmetka_3.to_csv('../data/marks_csv/markup_3.csv', index=False)"
   ]
  },
  {
   "cell_type": "code",
   "execution_count": null,
   "metadata": {},
   "outputs": [],
   "source": []
  }
 ],
 "metadata": {
  "kernelspec": {
   "display_name": "Python 3",
   "language": "python",
   "name": "python3"
  },
  "language_info": {
   "codemirror_mode": {
    "name": "ipython",
    "version": 3
   },
   "file_extension": ".py",
   "mimetype": "text/x-python",
   "name": "python",
   "nbconvert_exporter": "python",
   "pygments_lexer": "ipython3",
   "version": "3.6.7"
  }
 },
 "nbformat": 4,
 "nbformat_minor": 2
}
