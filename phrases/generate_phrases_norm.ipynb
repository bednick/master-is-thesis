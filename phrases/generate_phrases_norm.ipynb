{
 "cells": [
  {
   "cell_type": "code",
   "execution_count": null,
   "metadata": {},
   "outputs": [],
   "source": [
    "import re\n",
    "import string\n",
    "import pymorphy2\n",
    "import pandas as pd"
   ]
  },
  {
   "cell_type": "code",
   "execution_count": null,
   "metadata": {},
   "outputs": [],
   "source": [
    "aggregated = pd.read_csv('../data/marks_csv/aggregated.csv', index_col=None)"
   ]
  },
  {
   "cell_type": "code",
   "execution_count": null,
   "metadata": {},
   "outputs": [],
   "source": [
    "%%time\n",
    "regex_ru = re.compile('[^а-яА-Я]')\n",
    "morph = pymorphy2.MorphAnalyzer()\n",
    "\n",
    "\n",
    "def get_ru_words_normal_form(line: str):\n",
    "    words = [morph.parse(word)[0].normal_form for word in regex_ru.sub(' ', line).lower().split() if word]\n",
    "    return words\n",
    "aggregated['ru_words_normal_form'] = aggregated.input.apply(get_ru_words_normal_form)\n",
    "# aggregated.head(2)"
   ]
  },
  {
   "cell_type": "code",
   "execution_count": null,
   "metadata": {},
   "outputs": [],
   "source": [
    "%%time\n",
    "from gensim.models.phrases import Phrases\n",
    "\n",
    "DELIMITER = '_'\n",
    "B_DELIMITER = DELIMITER.encode()\n",
    "\n",
    "def train_phrases(sentences, n, min_count, threshold):\n",
    "    if n < 2:\n",
    "        raise ValueError(\"n < 2\")\n",
    "    \n",
    "    grams = []\n",
    "    transformed_corpus = []\n",
    "    \n",
    "    _words = sentences\n",
    "    for ind in range(n - 1):\n",
    "        gram = Phrases(_words, min_count=min_count, delimiter=B_DELIMITER, threshold=threshold)\n",
    "        grams.append(gram)\n",
    "        _words = gram[_words]\n",
    "        transformed_corpus.append(_words)\n",
    "            \n",
    "    return grams, transformed_corpus\n",
    "\n",
    "grams, transformed_corpus = train_phrases(aggregated.ru_words_normal_form, 5, min_count=10, threshold=40)"
   ]
  },
  {
   "cell_type": "code",
   "execution_count": null,
   "metadata": {},
   "outputs": [],
   "source": [
    "%%time\n",
    "phrases_by_groups = {name: list() for name in aggregated.output.unique()}\n",
    "all_words = []\n",
    "for index, (words, output) in enumerate(zip(transformed_corpus[-1], aggregated.output)):\n",
    "    phrases_by_groups[output].extend(words)\n",
    "    all_words.extend(words)"
   ]
  },
  {
   "cell_type": "code",
   "execution_count": null,
   "metadata": {},
   "outputs": [],
   "source": [
    "from collections import Counter\n",
    "\n",
    "counts = {name: Counter(values) for name, values in phrases_by_groups.items()}\n",
    "counter_sum = Counter(all_words)"
   ]
  },
  {
   "cell_type": "code",
   "execution_count": null,
   "metadata": {},
   "outputs": [],
   "source": [
    "output_counts = aggregated.output.value_counts().to_dict()\n",
    "_sum = sum(output_counts.values())\n",
    "output_coefficients = {n: v/_sum for n, v in output_counts.items()}\n",
    "output_coefficients"
   ]
  },
  {
   "cell_type": "markdown",
   "metadata": {},
   "source": [
    "normalized_counts:\n",
    "\n",
    "(Количество данного слова в классе / Количество данного слова во всех классах) * (размер класса / сумма размеров все классов)\n"
   ]
  },
  {
   "cell_type": "code",
   "execution_count": null,
   "metadata": {},
   "outputs": [],
   "source": [
    "normalized_counts = {out_name: {word: number/counter_sum[word]/output_coefficients[out_name] for (word, number) in count.most_common()} for out_name, count in counts.items()}\n",
    "normalized_counts['all_count'] = dict(counter_sum)\n",
    "normalized_counts.keys()"
   ]
  },
  {
   "cell_type": "code",
   "execution_count": null,
   "metadata": {},
   "outputs": [],
   "source": [
    "import math \n",
    "\n",
    "df_res = pd.DataFrame(normalized_counts)\n",
    "df_res.sort_values('all_count', ascending=False, inplace=True)\n",
    "df_res.index.set_names(['word'], inplace=True)\n",
    "df_res.reset_index(inplace=True)\n",
    "def get_sum_distance(row):\n",
    "    return round(math.fabs(row.NEUTRAL-row.GOOD)+math.fabs(row.NEUTRAL-row.BAD)+math.fabs(row.GOOD-row.BAD), 2)\n",
    "df_res['sum_distance'] = df_res.apply(get_sum_distance, 1)\n",
    "def word_counts(line: str) -> bool:\n",
    "    return len(line.replace(DELIMITER, ' ').split())\n",
    "df_res['word_counts'] = df_res.word.map(word_counts)\n",
    "def round_not_none(value):\n",
    "    if pd.isnull(value):\n",
    "        return value\n",
    "    return round(value, 2)\n",
    "df_res.NEUTRAL = df_res.NEUTRAL.apply(round_not_none)\n",
    "df_res.GOOD = df_res.GOOD.apply(round_not_none)\n",
    "df_res.BAD = df_res.BAD.apply(round_not_none)\n",
    "df_res.head()"
   ]
  },
  {
   "cell_type": "code",
   "execution_count": null,
   "metadata": {},
   "outputs": [],
   "source": [
    "def get_result(df, min_all_count, word_counts):\n",
    "    return df[(df.all_count >= min_all_count) & (df.word_counts == word_counts)].sort_values('sum_distance', ascending=False)"
   ]
  },
  {
   "cell_type": "code",
   "execution_count": null,
   "metadata": {},
   "outputs": [],
   "source": [
    "get_result(df_res, 500, word_counts=1).head(20)"
   ]
  },
  {
   "cell_type": "code",
   "execution_count": null,
   "metadata": {},
   "outputs": [],
   "source": [
    "get_result(df_res, 20, word_counts=2).head(10)"
   ]
  },
  {
   "cell_type": "code",
   "execution_count": null,
   "metadata": {},
   "outputs": [],
   "source": [
    "get_result(df_res, 40, word_counts=3).head(10)"
   ]
  },
  {
   "cell_type": "code",
   "execution_count": null,
   "metadata": {},
   "outputs": [],
   "source": []
  },
  {
   "cell_type": "code",
   "execution_count": null,
   "metadata": {},
   "outputs": [],
   "source": []
  },
  {
   "cell_type": "code",
   "execution_count": null,
   "metadata": {},
   "outputs": [],
   "source": [
    "df_res.to_csv('../data/phrases/aggregated_word_table.csv', index=False)"
   ]
  },
  {
   "cell_type": "code",
   "execution_count": null,
   "metadata": {},
   "outputs": [],
   "source": []
  }
 ],
 "metadata": {
  "kernelspec": {
   "display_name": "Python 3",
   "language": "python",
   "name": "python3"
  },
  "language_info": {
   "codemirror_mode": {
    "name": "ipython",
    "version": 3
   },
   "file_extension": ".py",
   "mimetype": "text/x-python",
   "name": "python",
   "nbconvert_exporter": "python",
   "pygments_lexer": "ipython3",
   "version": "3.6.7"
  }
 },
 "nbformat": 4,
 "nbformat_minor": 2
}
