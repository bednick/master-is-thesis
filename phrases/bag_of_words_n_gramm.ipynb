{
 "cells": [
  {
   "cell_type": "code",
   "execution_count": 1,
   "metadata": {},
   "outputs": [],
   "source": [
    "import re\n",
    "import string\n",
    "import pymorphy2\n",
    "import pandas as pd\n",
    "\n",
    "from typing import List, Tuple\n",
    "from collections import Counter"
   ]
  },
  {
   "cell_type": "code",
   "execution_count": 2,
   "metadata": {},
   "outputs": [
    {
     "data": {
      "text/plain": [
       "(7760, 3)"
      ]
     },
     "execution_count": 2,
     "metadata": {},
     "output_type": "execute_result"
    }
   ],
   "source": [
    "aggregated = pd.read_csv('../data/marks_csv/aggregated.csv', index_col=None)\n",
    "# aggregated.drop_duplicates(inplace=True)\n",
    "aggregated.shape"
   ]
  },
  {
   "cell_type": "code",
   "execution_count": 3,
   "metadata": {},
   "outputs": [
    {
     "data": {
      "text/plain": [
       "{'NEUTRAL': 0.5019329896907216, 'GOOD': 0.2875, 'BAD': 0.21056701030927835}"
      ]
     },
     "execution_count": 3,
     "metadata": {},
     "output_type": "execute_result"
    }
   ],
   "source": [
    "output_counts = aggregated.output.value_counts().to_dict()\n",
    "_sum = sum(output_counts.values())\n",
    "output_coefficients = {n: v/_sum for n, v in output_counts.items()}\n",
    "output_coefficients"
   ]
  },
  {
   "cell_type": "code",
   "execution_count": 4,
   "metadata": {},
   "outputs": [],
   "source": [
    "morph = pymorphy2.MorphAnalyzer()\n",
    "\n",
    "\n",
    "def normalize(line: str) -> List[str]:\n",
    "    return [morph.parse(word)[0].normal_form for word in (v.lower() for v in re.findall(r\"('?[а-яА-ЯёЁ][а-яА-ЯёЁ]*(?:-[а-яА-ЯёЁ]+)*'?)\", line))]\n",
    "\n",
    "\n",
    "def get_n_gramm(words: list, n: int = 2): \n",
    "    return ['_'.join(words[i-n+1:i+1]) for i in range(n - 1, len(words))]\n",
    "\n",
    "\n",
    "aggregated['ru_words_normal_form'] = aggregated.input.apply(normalize)\n",
    "aggregated['ru_words_normal_form'] = aggregated.ru_words_normal_form.apply(lambda x: x + get_n_gramm(x, 2) + get_n_gramm(x, 3))"
   ]
  },
  {
   "cell_type": "code",
   "execution_count": 5,
   "metadata": {},
   "outputs": [
    {
     "data": {
      "text/html": [
       "<div>\n",
       "<style scoped>\n",
       "    .dataframe tbody tr th:only-of-type {\n",
       "        vertical-align: middle;\n",
       "    }\n",
       "\n",
       "    .dataframe tbody tr th {\n",
       "        vertical-align: top;\n",
       "    }\n",
       "\n",
       "    .dataframe thead th {\n",
       "        text-align: right;\n",
       "    }\n",
       "</style>\n",
       "<table border=\"1\" class=\"dataframe\">\n",
       "  <thead>\n",
       "    <tr style=\"text-align: right;\">\n",
       "      <th></th>\n",
       "      <th>input</th>\n",
       "      <th>output</th>\n",
       "      <th>confidence</th>\n",
       "      <th>ru_words_normal_form</th>\n",
       "    </tr>\n",
       "  </thead>\n",
       "  <tbody>\n",
       "    <tr>\n",
       "      <th>0</th>\n",
       "      <td>Условия термодинамической согласованности имею...</td>\n",
       "      <td>NEUTRAL</td>\n",
       "      <td>0.92</td>\n",
       "      <td>[условие, термодинамический, согласованность, ...</td>\n",
       "    </tr>\n",
       "    <tr>\n",
       "      <th>1</th>\n",
       "      <td>мишени, подтвержденная там для 2D  модели, до...</td>\n",
       "      <td>NEUTRAL</td>\n",
       "      <td>0.90</td>\n",
       "      <td>[мишень, подтвердить, там, для, модель, дополн...</td>\n",
       "    </tr>\n",
       "    <tr>\n",
       "      <th>2</th>\n",
       "      <td>При разработке алгоритмов решения задач ГД и М...</td>\n",
       "      <td>NEUTRAL</td>\n",
       "      <td>0.97</td>\n",
       "      <td>[при, разработка, алгоритм, решение, задача, г...</td>\n",
       "    </tr>\n",
       "    <tr>\n",
       "      <th>3</th>\n",
       "      <td>На основе теории стохастических динамических п...</td>\n",
       "      <td>GOOD</td>\n",
       "      <td>1.00</td>\n",
       "      <td>[на, основа, теория, стохастический, динамичес...</td>\n",
       "    </tr>\n",
       "    <tr>\n",
       "      <th>4</th>\n",
       "      <td>Основным достоинством лазерного поджига являет...</td>\n",
       "      <td>NEUTRAL</td>\n",
       "      <td>0.61</td>\n",
       "      <td>[основный, достоинство, лазерный, поджиг, явля...</td>\n",
       "    </tr>\n",
       "  </tbody>\n",
       "</table>\n",
       "</div>"
      ],
      "text/plain": [
       "                                               input   output  confidence  \\\n",
       "0  Условия термодинамической согласованности имею...  NEUTRAL        0.92   \n",
       "1  мишени, подтвержденная там для 2D  модели, до...  NEUTRAL        0.90   \n",
       "2  При разработке алгоритмов решения задач ГД и М...  NEUTRAL        0.97   \n",
       "3  На основе теории стохастических динамических п...     GOOD        1.00   \n",
       "4  Основным достоинством лазерного поджига являет...  NEUTRAL        0.61   \n",
       "\n",
       "                                ru_words_normal_form  \n",
       "0  [условие, термодинамический, согласованность, ...  \n",
       "1  [мишень, подтвердить, там, для, модель, дополн...  \n",
       "2  [при, разработка, алгоритм, решение, задача, г...  \n",
       "3  [на, основа, теория, стохастический, динамичес...  \n",
       "4  [основный, достоинство, лазерный, поджиг, явля...  "
      ]
     },
     "execution_count": 5,
     "metadata": {},
     "output_type": "execute_result"
    }
   ],
   "source": [
    "aggregated.head()"
   ]
  },
  {
   "cell_type": "code",
   "execution_count": 6,
   "metadata": {},
   "outputs": [
    {
     "data": {
      "text/plain": [
       "dict_keys(['NEUTRAL', 'GOOD', 'BAD', 'all_count'])"
      ]
     },
     "execution_count": 6,
     "metadata": {},
     "output_type": "execute_result"
    }
   ],
   "source": [
    "words_by_groups = {name: [] for name in aggregated.output.unique()}\n",
    "all_words = []\n",
    "\n",
    "for index, row in aggregated.iterrows():\n",
    "    words_by_groups[row['output']].extend(row['ru_words_normal_form'])\n",
    "    all_words.extend(row['ru_words_normal_form'])\n",
    "\n",
    "counts = {name: Counter(values) for name, values in words_by_groups.items()}\n",
    "counter_sum = Counter(all_words)\n",
    "\n",
    "normalized_counts = {out_name: {word: number/counter_sum[word]/output_coefficients[out_name] for (word, number) in count.most_common()} for out_name, count in counts.items()}\n",
    "normalized_counts['all_count'] = dict(counter_sum)\n",
    "normalized_counts.keys()"
   ]
  },
  {
   "cell_type": "code",
   "execution_count": 7,
   "metadata": {},
   "outputs": [],
   "source": [
    "df_res = pd.DataFrame(normalized_counts)\n",
    "df_res.sort_values('all_count', ascending=False, inplace=True)\n",
    "df_res.index.set_names(['word'], inplace=True)\n",
    "df_res.reset_index(inplace=True)\n",
    "\n",
    "def round_not_none(value):\n",
    "    if pd.isnull(value):\n",
    "        return value\n",
    "    return round(value, 2)\n",
    "df_res.NEUTRAL = df_res.NEUTRAL.apply(round_not_none)\n",
    "df_res.GOOD = df_res.GOOD.apply(round_not_none)\n",
    "df_res.BAD = df_res.BAD.apply(round_not_none)"
   ]
  },
  {
   "cell_type": "code",
   "execution_count": 10,
   "metadata": {},
   "outputs": [],
   "source": [
    "df_res.to_csv('../data/frequencies/bag_of_words_3_gramm.csv', index=False)"
   ]
  },
  {
   "cell_type": "code",
   "execution_count": 9,
   "metadata": {},
   "outputs": [],
   "source": [
    "aggregated['input_normal_form'] = aggregated['ru_words_normal_form'].apply(lambda v: ' '.join(v))\n",
    "aggregated[['input_normal_form', 'output', 'confidence']].to_csv('../data/marks_csv/aggregated_normalize_3_gramm.csv', \n",
    "                                                                 index=None)"
   ]
  },
  {
   "cell_type": "code",
   "execution_count": null,
   "metadata": {},
   "outputs": [],
   "source": []
  }
 ],
 "metadata": {
  "kernelspec": {
   "display_name": "Python 3",
   "language": "python",
   "name": "python3"
  },
  "language_info": {
   "codemirror_mode": {
    "name": "ipython",
    "version": 3
   },
   "file_extension": ".py",
   "mimetype": "text/x-python",
   "name": "python",
   "nbconvert_exporter": "python",
   "pygments_lexer": "ipython3",
   "version": "3.7.3"
  }
 },
 "nbformat": 4,
 "nbformat_minor": 2
}
